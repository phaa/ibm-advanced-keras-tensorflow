{
 "cells": [
  {
   "cell_type": "markdown",
   "id": "bfa80ef3-e0de-47e6-b54b-1113f46d691d",
   "metadata": {},
   "source": [
    "<p style=\"text-align:center\">\n",
    "    <a href=\"https://skills.network\" target=\"_blank\">\n",
    "    <img src=\"https://cf-courses-data.s3.us.cloud-object-storage.appdomain.cloud/assets/logos/SN_web_lightmode.png\" width=\"200\" alt=\"Skills Network Logo\"  />\n",
    "    </a>\n",
    "</p>\n"
   ]
  },
  {
   "cell_type": "markdown",
   "id": "183f37eb-497c-4803-b947-ec9ed1a4adf9",
   "metadata": {},
   "source": [
    "# **Lab: Hyperparameter Tuning with Keras Tuner**\n"
   ]
  },
  {
   "cell_type": "markdown",
   "id": "87f0d461-9bfd-49b1-af77-fa98c5cee1de",
   "metadata": {},
   "source": [
    "Estimated time needed: **30** minutes\n"
   ]
  },
  {
   "cell_type": "markdown",
   "id": "97357f65-c520-4ab9-b72a-c34e97431ded",
   "metadata": {},
   "source": [
    "In this lab, you will learn how to set up Keras Tuner and prepare the environment for hyperparameter tuning. \n",
    "\n",
    "## Learning objectives: \n",
    "By the end of this lab, you will: \n",
    "- Install Keras Tuner and import the necessary libraries\n",
    "- Load and preprocess the MNIST data set\n",
    "- Define a model-building function that uses hyperparameters to configure the model architecture\n",
    "- Set up Keras Tuner to search for the best hyperparameter configuration \n",
    "- Retrieve the best hyperparameters from the search and build a model with these optimized values\n",
    "\n",
    "## Prerequisites: \n",
    "- Basic understanding of Python programming \n",
    "- Keras and TensorFlow installed\n"
   ]
  },
  {
   "cell_type": "markdown",
   "id": "b4d44da5-2935-4a93-879b-baa32249c070",
   "metadata": {},
   "source": [
    "### Exercise 1: Install the Keras Tuner \n",
    "\n",
    "This exercise guides you through the initial setup for using Keras Tuner. You install the library, import necessary modules, and load and preprocess the MNIST data set, which will be used for hyperparameter tuning. \n",
    "1. **Install Keras Tuner:**\n",
    "    - Use pip to install Keras Tuner\n",
    "2. **Import necessary libraries:**\n",
    "    - Import Keras Tuner, TensorFlow, and Keras modules\n",
    "3. **Load and preprocess the MNIST data set:**\n",
    "    - Load the MNIST data set.\n",
    "    - Normalize the data set by dividing by 255.0.\n"
   ]
  },
  {
   "cell_type": "code",
   "execution_count": 1,
   "id": "847a428c-a164-46cb-9d86-7bffa76cce12",
   "metadata": {},
   "outputs": [
    {
     "name": "stdout",
     "output_type": "stream",
     "text": [
      "Collecting keras-tuner==1.4.7\n",
      "  Downloading keras_tuner-1.4.7-py3-none-any.whl.metadata (5.4 kB)\n",
      "Requirement already satisfied: keras in /home/pedro/anaconda3/envs/intellisis/lib/python3.9/site-packages (from keras-tuner==1.4.7) (3.9.0)\n",
      "Requirement already satisfied: packaging in /home/pedro/anaconda3/envs/intellisis/lib/python3.9/site-packages (from keras-tuner==1.4.7) (24.2)\n",
      "Requirement already satisfied: requests in /home/pedro/anaconda3/envs/intellisis/lib/python3.9/site-packages (from keras-tuner==1.4.7) (2.32.3)\n",
      "Collecting kt-legacy (from keras-tuner==1.4.7)\n",
      "  Downloading kt_legacy-1.0.5-py3-none-any.whl.metadata (221 bytes)\n",
      "Requirement already satisfied: absl-py in /home/pedro/anaconda3/envs/intellisis/lib/python3.9/site-packages (from keras->keras-tuner==1.4.7) (2.2.0)\n",
      "Requirement already satisfied: numpy in /home/pedro/anaconda3/envs/intellisis/lib/python3.9/site-packages (from keras->keras-tuner==1.4.7) (2.0.2)\n",
      "Requirement already satisfied: rich in /home/pedro/anaconda3/envs/intellisis/lib/python3.9/site-packages (from keras->keras-tuner==1.4.7) (13.9.4)\n",
      "Requirement already satisfied: namex in /home/pedro/anaconda3/envs/intellisis/lib/python3.9/site-packages (from keras->keras-tuner==1.4.7) (0.0.8)\n",
      "Requirement already satisfied: h5py in /home/pedro/anaconda3/envs/intellisis/lib/python3.9/site-packages (from keras->keras-tuner==1.4.7) (3.13.0)\n",
      "Requirement already satisfied: optree in /home/pedro/anaconda3/envs/intellisis/lib/python3.9/site-packages (from keras->keras-tuner==1.4.7) (0.14.1)\n",
      "Requirement already satisfied: ml-dtypes in /home/pedro/anaconda3/envs/intellisis/lib/python3.9/site-packages (from keras->keras-tuner==1.4.7) (0.5.1)\n",
      "Requirement already satisfied: charset-normalizer<4,>=2 in /home/pedro/anaconda3/envs/intellisis/lib/python3.9/site-packages (from requests->keras-tuner==1.4.7) (3.3.2)\n",
      "Requirement already satisfied: idna<4,>=2.5 in /home/pedro/anaconda3/envs/intellisis/lib/python3.9/site-packages (from requests->keras-tuner==1.4.7) (3.10)\n",
      "Requirement already satisfied: urllib3<3,>=1.21.1 in /home/pedro/anaconda3/envs/intellisis/lib/python3.9/site-packages (from requests->keras-tuner==1.4.7) (2.3.0)\n",
      "Requirement already satisfied: certifi>=2017.4.17 in /home/pedro/anaconda3/envs/intellisis/lib/python3.9/site-packages (from requests->keras-tuner==1.4.7) (2025.1.31)\n",
      "Requirement already satisfied: typing-extensions>=4.5.0 in /home/pedro/anaconda3/envs/intellisis/lib/python3.9/site-packages (from optree->keras->keras-tuner==1.4.7) (4.12.2)\n",
      "Requirement already satisfied: markdown-it-py>=2.2.0 in /home/pedro/anaconda3/envs/intellisis/lib/python3.9/site-packages (from rich->keras->keras-tuner==1.4.7) (3.0.0)\n",
      "Requirement already satisfied: pygments<3.0.0,>=2.13.0 in /home/pedro/anaconda3/envs/intellisis/lib/python3.9/site-packages (from rich->keras->keras-tuner==1.4.7) (2.19.1)\n",
      "Requirement already satisfied: mdurl~=0.1 in /home/pedro/anaconda3/envs/intellisis/lib/python3.9/site-packages (from markdown-it-py>=2.2.0->rich->keras->keras-tuner==1.4.7) (0.1.2)\n",
      "Downloading keras_tuner-1.4.7-py3-none-any.whl (129 kB)\n",
      "Downloading kt_legacy-1.0.5-py3-none-any.whl (9.6 kB)\n",
      "Installing collected packages: kt-legacy, keras-tuner\n",
      "Successfully installed keras-tuner-1.4.7 kt-legacy-1.0.5\n"
     ]
    }
   ],
   "source": [
    "#!pip install tensorflow==2.16.2\n",
    "!pip install keras-tuner==1.4.7\n",
    "#!pip install numpy<2.0.0"
   ]
  },
  {
   "cell_type": "markdown",
   "id": "8ae40fb2-7df4-49eb-af6c-ccf40d7c7d93",
   "metadata": {},
   "source": [
    "#### Explanation: \n",
    "This code installs the necessary libraries using pip\n",
    "\n",
    "- **TensorFlow**: Ensures compatibility with the Keras Tuner.\n",
    "- **Keras Tuner**: The version used in this lab.\n",
    "- **Numpy**: Ensures compatibility with the other installed packages.\n"
   ]
  },
  {
   "cell_type": "code",
   "execution_count": 2,
   "id": "60b0d4d6-55ea-42d1-9484-20c278e7ec6f",
   "metadata": {},
   "outputs": [],
   "source": [
    "import sys\n",
    "\n",
    "# Increase recursion limit to prevent potential issues\n",
    "sys.setrecursionlimit(100000)"
   ]
  },
  {
   "cell_type": "markdown",
   "id": "9fe339e0-00b7-4707-92b8-62b1dc175b1f",
   "metadata": {},
   "source": [
    "#### Explanation: \n",
    "The sys.setrecursionlimit function is used to increase the recursion limit, which helps prevent potential recursion errors when running complex models with deep nested functions or when using certain libraries like TensorFlow.\n"
   ]
  },
  {
   "cell_type": "code",
   "execution_count": 3,
   "id": "2e9ac456-ffc4-42ed-991f-54d67145f36b",
   "metadata": {},
   "outputs": [
    {
     "name": "stderr",
     "output_type": "stream",
     "text": [
      "2025-05-21 12:19:28.961970: E external/local_xla/xla/stream_executor/cuda/cuda_fft.cc:467] Unable to register cuFFT factory: Attempting to register factory for plugin cuFFT when one has already been registered\n",
      "WARNING: All log messages before absl::InitializeLog() is called are written to STDERR\n",
      "E0000 00:00:1747840769.118639    9428 cuda_dnn.cc:8579] Unable to register cuDNN factory: Attempting to register factory for plugin cuDNN when one has already been registered\n",
      "E0000 00:00:1747840769.162888    9428 cuda_blas.cc:1407] Unable to register cuBLAS factory: Attempting to register factory for plugin cuBLAS when one has already been registered\n",
      "W0000 00:00:1747840769.517787    9428 computation_placer.cc:177] computation placer already registered. Please check linkage and avoid linking the same target more than once.\n",
      "W0000 00:00:1747840769.517811    9428 computation_placer.cc:177] computation placer already registered. Please check linkage and avoid linking the same target more than once.\n",
      "W0000 00:00:1747840769.517813    9428 computation_placer.cc:177] computation placer already registered. Please check linkage and avoid linking the same target more than once.\n",
      "W0000 00:00:1747840769.517814    9428 computation_placer.cc:177] computation placer already registered. Please check linkage and avoid linking the same target more than once.\n",
      "2025-05-21 12:19:29.554307: I tensorflow/core/platform/cpu_feature_guard.cc:210] This TensorFlow binary is optimized to use available CPU instructions in performance-critical operations.\n",
      "To enable the following instructions: AVX2 FMA, in other operations, rebuild TensorFlow with the appropriate compiler flags.\n"
     ]
    }
   ],
   "source": [
    "# Step 2: Import necessary libraries\n",
    "import keras_tuner as kt\n",
    "from tensorflow.keras.models import Sequential\n",
    "from tensorflow.keras.layers import Dense, Flatten\n",
    "from tensorflow.keras.datasets import mnist\n",
    "from tensorflow.keras.optimizers import Adam\n",
    "import os\n",
    "import warnings\n",
    "\n",
    "# Suppress all Python warnings\n",
    "warnings.filterwarnings('ignore')\n",
    "\n",
    "# Set TensorFlow log level to suppress warnings and info messages\n",
    "os.environ['TF_CPP_MIN_LOG_LEVEL'] = '2'  # 0 = all logs, 1 = filter out INFO, 2 = filter out INFO and WARNING, 3 = ERROR only\n",
    "\n"
   ]
  },
  {
   "cell_type": "code",
   "execution_count": 4,
   "id": "bd6e5e26-4bb6-4490-993c-2839573f9107",
   "metadata": {},
   "outputs": [],
   "source": [
    "#!pip install scikit-learn\n",
    "from tensorflow import keras\n",
    "from sklearn.model_selection import train_test_split\n",
    "\n",
    "# Load the MNIST dataset\n",
    "(x_all, y_all), _ = keras.datasets.mnist.load_data()\n",
    "\n",
    "# Flatten and normalize the images\n",
    "x_all = x_all.reshape((x_all.shape[0], -1)).astype(\"float32\") / 255.0\n",
    "\n",
    "# Split into train+val and test (80/20)\n",
    "x_temp, x_test, y_temp, y_test = train_test_split(x_all, y_all, test_size=0.2, random_state=42)\n",
    "\n",
    "# Split train+val into train and validation (75/25 of 80% = 60/20 overall)\n",
    "x_train, x_val, y_train, y_val = train_test_split(x_temp, y_temp, test_size=0.25, random_state=42)"
   ]
  },
  {
   "cell_type": "markdown",
   "id": "e12b4701-7df6-4232-a99d-01cd2b836016",
   "metadata": {},
   "source": [
    "#### Explanation\n",
    "\n",
    "This code imports the necessary libraries:\n",
    "\n",
    "- **`keras_tuner`**: Used for hyperparameter tuning.\n",
    "- **`Sequential`**: A linear stack of layers in Keras.\n",
    "- **`Dense`**, **`Flatten`**: Common Keras layers.\n",
    "- **`mnist`**: The MNIST dataset, a standard dataset for image classification.\n",
    "- **`Adam`**: An optimizer in Keras.\n"
   ]
  },
  {
   "cell_type": "code",
   "execution_count": 5,
   "id": "c8b2d6e0-607d-4654-8fc2-ebaa2e29cfb6",
   "metadata": {},
   "outputs": [
    {
     "name": "stdout",
     "output_type": "stream",
     "text": [
      "Training data shape: (60000, 28, 28)\n",
      "Validation data shape: (10000, 28, 28)\n"
     ]
    }
   ],
   "source": [
    "\n",
    "# Step 3: Load and preprocess the MNIST dataset\n",
    "(x_train, y_train), (x_val, y_val) = mnist.load_data()\n",
    "x_train, x_val = x_train / 255.0, x_val / 255.0\n",
    "\n",
    "print(f'Training data shape: {x_train.shape}')\n",
    "print(f'Validation data shape: {x_val.shape}')"
   ]
  },
  {
   "cell_type": "markdown",
   "id": "afccd39a-c6a0-4e0b-8e6d-426a3d2e5c33",
   "metadata": {},
   "source": [
    "#### Explanation\n",
    "\n",
    "This code loads the MNIST dataset and preprocesses it:\n",
    "\n",
    "- **`mnist.load_data()`**: Loads the dataset, returning training and validation splits.\n",
    "- **`x_train / 255.0`**: Normalizes the pixel values to be between 0 and 1.\n",
    "- **`print(f'...')`**: Displays the shapes of the training and validation datasets.\n"
   ]
  },
  {
   "cell_type": "markdown",
   "id": "eb863c30-436f-4f40-a073-34914d09cd00",
   "metadata": {},
   "source": [
    "### Exercise 2: Defining the model with hyperparameters \n",
    "\n",
    "In this exercise, you define a model-building function that uses the `HyperParameters` object to specify the number of units in a dense layer and the learning rate. This function returns a compiled Keras model that is ready for hyperparameter tuning.\n",
    "\n",
    "**Define a model-building function:**\n",
    "- Create a function `build_model` that takes a `HyperParameters` object as input.\n",
    "- Use the `HyperParameters` object to define the number of units in a dense layer and the learning rate for the optimizer.\n",
    "- Compile the model with sparse categorical cross-entropy loss and Adam optimizer.\n"
   ]
  },
  {
   "cell_type": "code",
   "execution_count": 6,
   "id": "d10483f1-8b0a-4aef-9f73-ef6826a1dc38",
   "metadata": {},
   "outputs": [],
   "source": [
    "# Define a model-building function \n",
    "\n",
    "def build_model(hp):\n",
    "    model = Sequential([\n",
    "        Flatten(input_shape=(28, 28)),\n",
    "        Dense(units=hp.Int('units', min_value=32, max_value=512, step=32), activation='relu'),\n",
    "        Dense(10, activation='softmax')\n",
    "    ])\n",
    "\n",
    "    model.compile(\n",
    "        optimizer=Adam(learning_rate=hp.Float('learning_rate', min_value=1e-4, max_value=1e-2, sampling='LOG')),\n",
    "        loss='sparse_categorical_crossentropy',\n",
    "        metrics=['accuracy']\n",
    "    )\n",
    "\n",
    "    return model\n"
   ]
  },
  {
   "cell_type": "markdown",
   "id": "ce4bf167-cd96-487e-8b36-1e7e376e5785",
   "metadata": {},
   "source": [
    "#### Explanation\n",
    "\n",
    "This function builds and compiles a Keras model with hyperparameters:\n",
    "\n",
    "- **`hp.Int('units', ...)`**: Defines the number of units in the Dense layer as a hyperparameter.\n",
    "- **`hp.Float('learning_rate', ...)`**: Defines the learning rate as a hyperparameter.\n",
    "- **`model.compile()`**: Compiles the model with the Adam optimizer and sparse categorical cross-entropy loss.\n"
   ]
  },
  {
   "cell_type": "markdown",
   "id": "e4fad9b1-0f80-45b3-88d7-ec6ca7c40496",
   "metadata": {},
   "source": [
    "### Exercise 3: Configuring the hyperparameter search \n",
    "\n",
    "This exercise guides you through configuring Keras Tuner. You create a `RandomSearch` tuner, specifying the model-building function, the optimization objective, the number of trials, and the directory for storing results. The search space summary provides an overview of the hyperparameters being tuned. \n",
    "\n",
    "**Create a RandomSearch Tuner:**\n",
    "- Use the `RandomSearch` class from Keras Tuner. \n",
    "- Specify the model-building function, optimization objective (validation accuracy), number of trials, and directory for storing results.\n"
   ]
  },
  {
   "cell_type": "code",
   "execution_count": 7,
   "id": "a51ce74a-09be-4efa-b96a-c41f7cc5182e",
   "metadata": {},
   "outputs": [
    {
     "name": "stderr",
     "output_type": "stream",
     "text": [
      "I0000 00:00:1747841801.499001    9428 gpu_device.cc:2019] Created device /job:localhost/replica:0/task:0/device:GPU:0 with 8012 MB memory:  -> device: 0, name: NVIDIA GeForce RTX 3060, pci bus id: 0000:01:00.0, compute capability: 8.6\n"
     ]
    },
    {
     "name": "stdout",
     "output_type": "stream",
     "text": [
      "Search space summary\n",
      "Default search space size: 2\n",
      "units (Int)\n",
      "{'default': None, 'conditions': [], 'min_value': 32, 'max_value': 512, 'step': 32, 'sampling': 'linear'}\n",
      "learning_rate (Float)\n",
      "{'default': 0.0001, 'conditions': [], 'min_value': 0.0001, 'max_value': 0.01, 'step': None, 'sampling': 'log'}\n"
     ]
    }
   ],
   "source": [
    "# Create a RandomSearch Tuner \n",
    "\n",
    "tuner = kt.RandomSearch(\n",
    "    build_model,\n",
    "    objective='val_accuracy',\n",
    "    max_trials=10,\n",
    "    executions_per_trial=2,\n",
    "    directory='my_dir',\n",
    "    project_name='intro_to_kt'\n",
    ")\n",
    "\n",
    "# Display a summary of the search space \n",
    "tuner.search_space_summary()"
   ]
  },
  {
   "cell_type": "markdown",
   "id": "9828a7aa-e492-489e-b2e4-c74ffb4a51ab",
   "metadata": {},
   "source": [
    "#### Explanation\n",
    "\n",
    "This code sets up a Keras Tuner `RandomSearch`:\n",
    "\n",
    "- **`build_model`**: The model-building function.\n",
    "- **`objective='val_accuracy'`**: The metric to optimize (validation accuracy).\n",
    "- **`max_trials=10`**: The maximum number of different hyperparameter configurations to try.\n",
    "- **`executions_per_trial=2`**: The number of times to run each configuration.\n",
    "- **`directory='my_dir'`**: Directory to save the results.\n",
    "- **`project_name='intro_to_kt'`**: Name of the project for organizing results.\n",
    "\n",
    "Displays a summary of the hyperparameter search space, providing an overview of the hyperparameters being tuned.\n",
    "\n"
   ]
  },
  {
   "cell_type": "markdown",
   "id": "f874963e-4716-415d-8801-9e22e3fb7ccd",
   "metadata": {},
   "source": [
    "### Exercise 4: Running the hyperparameter search \n",
    "\n",
    "In this exercise, you run the hyperparameter search using the `search` method of the tuner. You provide the training and validation data along with the number of epochs. After the search is complete, the results summary displays the best hyperparameter configurations found. \n",
    "\n",
    "**Run the search:**\n",
    "- Use the `search` method of the tuner. \n",
    "- Pass in the training data, validation data, and the number of epochs\n"
   ]
  },
  {
   "cell_type": "code",
   "execution_count": 8,
   "id": "4f66c076-79ba-4b6b-87ab-99b6b258e33e",
   "metadata": {},
   "outputs": [
    {
     "name": "stdout",
     "output_type": "stream",
     "text": [
      "Trial 10 Complete [00h 00m 42s]\n",
      "val_accuracy: 0.9778999984264374\n",
      "\n",
      "Best val_accuracy So Far: 0.9794999957084656\n",
      "Total elapsed time: 00h 07m 17s\n",
      "Results summary\n",
      "Results in my_dir/intro_to_kt\n",
      "Showing 10 best trials\n",
      "Objective(name=\"val_accuracy\", direction=\"max\")\n",
      "\n",
      "Trial 05 summary\n",
      "Hyperparameters:\n",
      "units: 256\n",
      "learning_rate: 0.001592797574789083\n",
      "Score: 0.9794999957084656\n",
      "\n",
      "Trial 08 summary\n",
      "Hyperparameters:\n",
      "units: 288\n",
      "learning_rate: 0.0010693697544363863\n",
      "Score: 0.9792500138282776\n",
      "\n",
      "Trial 04 summary\n",
      "Hyperparameters:\n",
      "units: 320\n",
      "learning_rate: 0.0015463362595452633\n",
      "Score: 0.9781999886035919\n",
      "\n",
      "Trial 09 summary\n",
      "Hyperparameters:\n",
      "units: 224\n",
      "learning_rate: 0.0019976931131625974\n",
      "Score: 0.9778999984264374\n",
      "\n",
      "Trial 01 summary\n",
      "Hyperparameters:\n",
      "units: 128\n",
      "learning_rate: 0.001426440952221173\n",
      "Score: 0.9772999882698059\n",
      "\n",
      "Trial 06 summary\n",
      "Hyperparameters:\n",
      "units: 288\n",
      "learning_rate: 0.002939368265865483\n",
      "Score: 0.9766499996185303\n",
      "\n",
      "Trial 00 summary\n",
      "Hyperparameters:\n",
      "units: 224\n",
      "learning_rate: 0.0002470617950869425\n",
      "Score: 0.97325000166893\n",
      "\n",
      "Trial 02 summary\n",
      "Hyperparameters:\n",
      "units: 160\n",
      "learning_rate: 0.00036339055883970005\n",
      "Score: 0.9723999798297882\n",
      "\n",
      "Trial 07 summary\n",
      "Hyperparameters:\n",
      "units: 96\n",
      "learning_rate: 0.004759045596576738\n",
      "Score: 0.9706999957561493\n",
      "\n",
      "Trial 03 summary\n",
      "Hyperparameters:\n",
      "units: 96\n",
      "learning_rate: 0.0001161083982594455\n",
      "Score: 0.9481000006198883\n"
     ]
    }
   ],
   "source": [
    "# Run the hyperparameter search \n",
    "tuner.search(x_train, y_train, epochs=5, validation_data=(x_val, y_val)) \n",
    "\n",
    "# Display a summary of the results \n",
    "tuner.results_summary() "
   ]
  },
  {
   "cell_type": "markdown",
   "id": "bede143e-8910-4ed9-9c57-f2d0909b4d1a",
   "metadata": {},
   "source": [
    "#### Explanation\n",
    "\n",
    "This command runs the hyperparameter search:\n",
    "\n",
    "- **`epochs=5`**: Each trial is trained for 5 epochs.\n",
    "- **`validation_data=(x_val, y_val)`**: The validation data to evaluate the model's performance during the search.\n",
    "\n",
    "After the search is complete, this command displays a summary of the best hyperparameter configurations found during the search.\n"
   ]
  },
  {
   "cell_type": "markdown",
   "id": "85a5b1c3-2c01-475f-a514-759b77f789f3",
   "metadata": {},
   "source": [
    "## Exercise 5: Analyzing and using the best hyperparameters \n",
    "\n",
    "In this exercise, you retrieve the best hyperparameters found during the search and print their values. You then build a model with these optimized hyperparameters and train it on the full training data set. Finally, you evaluate the model’s performance on the test set to ensure that it performs well with the selected hyperparameters. \n",
    "\n",
    "**Retrieve the best hyperparameters:**\n",
    "- Use the `get_best_hyperparameters` method to get the best hyperparameters. \n",
    "- Print the optimal values for the hyperparameters. \n",
    "\n",
    "**Build and train the model:**\n",
    "- Build a model using the best hyperparameters. \n",
    "- Train the model on the full training data set and evaluate its performance on the test set.\n"
   ]
  },
  {
   "cell_type": "code",
   "execution_count": 9,
   "id": "7124821a-7f60-4dca-96f2-754f146d4148",
   "metadata": {},
   "outputs": [
    {
     "name": "stdout",
     "output_type": "stream",
     "text": [
      " \n",
      "\n",
      "The optimal number of units in the first dense layer is 256. \n",
      "\n",
      "The optimal learning rate for the optimizer is 0.001592797574789083. \n",
      "\n",
      "\n",
      "Epoch 1/10\n",
      "\u001b[1m1500/1500\u001b[0m \u001b[32m━━━━━━━━━━━━━━━━━━━━\u001b[0m\u001b[37m\u001b[0m \u001b[1m5s\u001b[0m 2ms/step - accuracy: 0.8908 - loss: 0.3735 - val_accuracy: 0.9636 - val_loss: 0.1255\n",
      "Epoch 2/10\n",
      "\u001b[1m1500/1500\u001b[0m \u001b[32m━━━━━━━━━━━━━━━━━━━━\u001b[0m\u001b[37m\u001b[0m \u001b[1m3s\u001b[0m 2ms/step - accuracy: 0.9701 - loss: 0.0959 - val_accuracy: 0.9710 - val_loss: 0.1011\n",
      "Epoch 3/10\n",
      "\u001b[1m1500/1500\u001b[0m \u001b[32m━━━━━━━━━━━━━━━━━━━━\u001b[0m\u001b[37m\u001b[0m \u001b[1m3s\u001b[0m 2ms/step - accuracy: 0.9813 - loss: 0.0582 - val_accuracy: 0.9740 - val_loss: 0.0926\n",
      "Epoch 4/10\n",
      "\u001b[1m1500/1500\u001b[0m \u001b[32m━━━━━━━━━━━━━━━━━━━━\u001b[0m\u001b[37m\u001b[0m \u001b[1m3s\u001b[0m 2ms/step - accuracy: 0.9872 - loss: 0.0412 - val_accuracy: 0.9704 - val_loss: 0.1094\n",
      "Epoch 5/10\n",
      "\u001b[1m1500/1500\u001b[0m \u001b[32m━━━━━━━━━━━━━━━━━━━━\u001b[0m\u001b[37m\u001b[0m \u001b[1m3s\u001b[0m 2ms/step - accuracy: 0.9898 - loss: 0.0308 - val_accuracy: 0.9724 - val_loss: 0.1044\n",
      "Epoch 6/10\n",
      "\u001b[1m1500/1500\u001b[0m \u001b[32m━━━━━━━━━━━━━━━━━━━━\u001b[0m\u001b[37m\u001b[0m \u001b[1m3s\u001b[0m 2ms/step - accuracy: 0.9921 - loss: 0.0252 - val_accuracy: 0.9729 - val_loss: 0.1057\n",
      "Epoch 7/10\n",
      "\u001b[1m1500/1500\u001b[0m \u001b[32m━━━━━━━━━━━━━━━━━━━━\u001b[0m\u001b[37m\u001b[0m \u001b[1m3s\u001b[0m 2ms/step - accuracy: 0.9938 - loss: 0.0190 - val_accuracy: 0.9747 - val_loss: 0.1040\n",
      "Epoch 8/10\n",
      "\u001b[1m1500/1500\u001b[0m \u001b[32m━━━━━━━━━━━━━━━━━━━━\u001b[0m\u001b[37m\u001b[0m \u001b[1m3s\u001b[0m 2ms/step - accuracy: 0.9944 - loss: 0.0182 - val_accuracy: 0.9772 - val_loss: 0.1042\n",
      "Epoch 9/10\n",
      "\u001b[1m1500/1500\u001b[0m \u001b[32m━━━━━━━━━━━━━━━━━━━━\u001b[0m\u001b[37m\u001b[0m \u001b[1m3s\u001b[0m 2ms/step - accuracy: 0.9958 - loss: 0.0129 - val_accuracy: 0.9780 - val_loss: 0.1076\n",
      "Epoch 10/10\n",
      "\u001b[1m1500/1500\u001b[0m \u001b[32m━━━━━━━━━━━━━━━━━━━━\u001b[0m\u001b[37m\u001b[0m \u001b[1m3s\u001b[0m 2ms/step - accuracy: 0.9962 - loss: 0.0114 - val_accuracy: 0.9743 - val_loss: 0.1171\n",
      "\u001b[1m313/313\u001b[0m \u001b[32m━━━━━━━━━━━━━━━━━━━━\u001b[0m\u001b[37m\u001b[0m \u001b[1m2s\u001b[0m 3ms/step - accuracy: 0.9744 - loss: 0.1188\n",
      "Test accuracy: 0.9768000245094299\n"
     ]
    }
   ],
   "source": [
    "# Step 1: Retrieve the best hyperparameters \n",
    "\n",
    "best_hps = tuner.get_best_hyperparameters(num_trials=1)[0] \n",
    "print(f\"\"\" \n",
    "\n",
    "The optimal number of units in the first dense layer is {best_hps.get('units')}. \n",
    "\n",
    "The optimal learning rate for the optimizer is {best_hps.get('learning_rate')}. \n",
    "\n",
    "\"\"\") \n",
    "\n",
    "# Step 2: Build and Train the Model with Best Hyperparameters \n",
    "model = tuner.hypermodel.build(best_hps) \n",
    "model.fit(x_train, y_train, epochs=10, validation_split=0.2) \n",
    "\n",
    "# Evaluate the model on the test set \n",
    "test_loss, test_acc = model.evaluate(x_val, y_val) \n",
    "print(f'Test accuracy: {test_acc}') "
   ]
  },
  {
   "cell_type": "markdown",
   "id": "e2140dd6-5f9c-4265-a704-cb8a483cf486",
   "metadata": {},
   "source": [
    "#### Explanation\n",
    "\n",
    "This code retrieves the best hyperparameters found during the search:\n",
    "\n",
    "- **`get_best_hyperparameters(num_trials=1)`**: Gets the best hyperparameter configuration.\n",
    "- **`print(f\"...\")`**: Prints the best hyperparameters.\n",
    "- **`model.fit(...)`**: Trains the model on the full training data with a validation split of 20%.\n",
    "- **`model.evaluate(...)`**: Evaluates the model on the test (validation) dataset and prints the accuracy, which gives an indication of how well the model generalizes.\n"
   ]
  },
  {
   "cell_type": "markdown",
   "id": "c6569e85-7b85-44ae-9772-3f551550cc05",
   "metadata": {},
   "source": [
    "## Practice exercises \n",
    "\n",
    "### Exercise 1: Setting Up Keras Tuner \n",
    "\n",
    "#### Objective: \n",
    "Learn how to set up Keras Tuner and prepare the environment for hyperparameter tuning. \n",
    "\n",
    "#### Instructions: \n",
    "1. Install Keras Tuner.\n",
    "2. Import necessary libraries.\n",
    "3. Load and preprocess the MNIST data set.\n"
   ]
  },
  {
   "cell_type": "code",
   "execution_count": 10,
   "id": "45ffabf1-adbc-4655-b6b4-5d69c1e3b504",
   "metadata": {},
   "outputs": [
    {
     "name": "stdout",
     "output_type": "stream",
     "text": [
      "Requirement already satisfied: keras-tuner in /home/pedro/anaconda3/envs/intellisis/lib/python3.9/site-packages (1.4.7)\n",
      "Requirement already satisfied: keras in /home/pedro/anaconda3/envs/intellisis/lib/python3.9/site-packages (from keras-tuner) (3.9.0)\n",
      "Requirement already satisfied: packaging in /home/pedro/anaconda3/envs/intellisis/lib/python3.9/site-packages (from keras-tuner) (24.2)\n",
      "Requirement already satisfied: requests in /home/pedro/anaconda3/envs/intellisis/lib/python3.9/site-packages (from keras-tuner) (2.32.3)\n",
      "Requirement already satisfied: kt-legacy in /home/pedro/anaconda3/envs/intellisis/lib/python3.9/site-packages (from keras-tuner) (1.0.5)\n",
      "Requirement already satisfied: absl-py in /home/pedro/anaconda3/envs/intellisis/lib/python3.9/site-packages (from keras->keras-tuner) (2.2.0)\n",
      "Requirement already satisfied: numpy in /home/pedro/anaconda3/envs/intellisis/lib/python3.9/site-packages (from keras->keras-tuner) (2.0.2)\n",
      "Requirement already satisfied: rich in /home/pedro/anaconda3/envs/intellisis/lib/python3.9/site-packages (from keras->keras-tuner) (13.9.4)\n",
      "Requirement already satisfied: namex in /home/pedro/anaconda3/envs/intellisis/lib/python3.9/site-packages (from keras->keras-tuner) (0.0.8)\n",
      "Requirement already satisfied: h5py in /home/pedro/anaconda3/envs/intellisis/lib/python3.9/site-packages (from keras->keras-tuner) (3.13.0)\n",
      "Requirement already satisfied: optree in /home/pedro/anaconda3/envs/intellisis/lib/python3.9/site-packages (from keras->keras-tuner) (0.14.1)\n",
      "Requirement already satisfied: ml-dtypes in /home/pedro/anaconda3/envs/intellisis/lib/python3.9/site-packages (from keras->keras-tuner) (0.5.1)\n",
      "Requirement already satisfied: charset-normalizer<4,>=2 in /home/pedro/anaconda3/envs/intellisis/lib/python3.9/site-packages (from requests->keras-tuner) (3.3.2)\n",
      "Requirement already satisfied: idna<4,>=2.5 in /home/pedro/anaconda3/envs/intellisis/lib/python3.9/site-packages (from requests->keras-tuner) (3.10)\n",
      "Requirement already satisfied: urllib3<3,>=1.21.1 in /home/pedro/anaconda3/envs/intellisis/lib/python3.9/site-packages (from requests->keras-tuner) (2.3.0)\n",
      "Requirement already satisfied: certifi>=2017.4.17 in /home/pedro/anaconda3/envs/intellisis/lib/python3.9/site-packages (from requests->keras-tuner) (2025.1.31)\n",
      "Requirement already satisfied: typing-extensions>=4.5.0 in /home/pedro/anaconda3/envs/intellisis/lib/python3.9/site-packages (from optree->keras->keras-tuner) (4.12.2)\n",
      "Requirement already satisfied: markdown-it-py>=2.2.0 in /home/pedro/anaconda3/envs/intellisis/lib/python3.9/site-packages (from rich->keras->keras-tuner) (3.0.0)\n",
      "Requirement already satisfied: pygments<3.0.0,>=2.13.0 in /home/pedro/anaconda3/envs/intellisis/lib/python3.9/site-packages (from rich->keras->keras-tuner) (2.19.1)\n",
      "Requirement already satisfied: mdurl~=0.1 in /home/pedro/anaconda3/envs/intellisis/lib/python3.9/site-packages (from markdown-it-py>=2.2.0->rich->keras->keras-tuner) (0.1.2)\n",
      "Training data shape: (60000, 28, 28)\n",
      "Validation data shape: (10000, 28, 28)\n"
     ]
    }
   ],
   "source": [
    "# Write your code here\n",
    "!pip install keras-tuner \n",
    "\n",
    "# Step 2: Import necessary libraries \n",
    "import keras_tuner as kt \n",
    "from tensorflow.keras.models import Sequential \n",
    "from tensorflow.keras.layers import Dense, Flatten \n",
    "from tensorflow.keras.datasets import mnist \n",
    "from tensorflow.keras.optimizers import Adam \n",
    "\n",
    "# Step 3: Load and preprocess the MNIST data set \n",
    "(x_train, y_train), (x_val, y_val) = mnist.load_data() \n",
    "x_train, x_val = x_train / 255.0, x_val / 255.0 \n",
    "\n",
    "# Print the shapes of the training and validation datasets\n",
    "print(f'Training data shape: {x_train.shape}') \n",
    "print(f'Validation data shape: {x_val.shape}')"
   ]
  },
  {
   "cell_type": "markdown",
   "id": "ae5c2e62-43fa-4c44-a052-a6572cbd9e20",
   "metadata": {},
   "source": [
    "<details>\n",
    "    <summary>Click here for Solution</summary>\n",
    "\n",
    "```python\n",
    "!pip install keras-tuner \n",
    "\n",
    "# Step 2: Import necessary libraries \n",
    "import keras_tuner as kt \n",
    "from tensorflow.keras.models import Sequential \n",
    "from tensorflow.keras.layers import Dense, Flatten \n",
    "from tensorflow.keras.datasets import mnist \n",
    "from tensorflow.keras.optimizers import Adam \n",
    "\n",
    "# Step 3: Load and preprocess the MNIST data set \n",
    "(x_train, y_train), (x_val, y_val) = mnist.load_data() \n",
    "x_train, x_val = x_train / 255.0, x_val / 255.0 \n",
    "\n",
    "# Print the shapes of the training and validation datasets\n",
    "print(f'Training data shape: {x_train.shape}') \n",
    "print(f'Validation data shape: {x_val.shape}')\n",
    "```\n",
    "\n",
    "</details>\n"
   ]
  },
  {
   "cell_type": "markdown",
   "id": "fd7f458c-7c1c-4660-899c-fcfd02ee92fa",
   "metadata": {},
   "source": [
    "### Exercise 2: Defining the model with hyperparameters \n",
    "\n",
    "#### Objective: \n",
    "Define a model-building function that uses hyperparameters to configure the model architecture. \n",
    "\n",
    "#### Instructions: \n",
    "1. Define a model-building function that uses the `HyperParameters` object to specify the number of units in a dense layer and the learning rate. \n",
    "2. Compile the model with sparse categorical cross-entropy loss and Adam optimizer. \n"
   ]
  },
  {
   "cell_type": "code",
   "execution_count": 11,
   "id": "b478a7ce-ff4c-4aaf-a360-0e91cab1e0c1",
   "metadata": {},
   "outputs": [],
   "source": [
    "# Write your code here\n",
    "from tensorflow.keras.models import Sequential\n",
    "from tensorflow.keras.layers import Dense, Flatten\n",
    "from tensorflow.keras.optimizers import Adam\n",
    "import keras_tuner as kt\n",
    "\n",
    "# Step 1: Define a model-building function\n",
    "def build_model(hp):\n",
    "    model = Sequential([\n",
    "        Flatten(input_shape=(28, 28)),\n",
    "        Dense(units=hp.Int('units', min_value=32, max_value=512, step=32), activation='relu'),\n",
    "        Dense(10, activation='softmax')\n",
    "    ])\n",
    "\n",
    "    model.compile(\n",
    "        optimizer=Adam(learning_rate=hp.Float('learning_rate', min_value=1e-4, max_value=1e-2, sampling='LOG')),\n",
    "        loss='sparse_categorical_crossentropy',\n",
    "        metrics=['accuracy']\n",
    "    )\n",
    "    \n",
    "    return model"
   ]
  },
  {
   "cell_type": "markdown",
   "id": "b5410b94-246c-4c25-b9ee-b5f3c0a7ce1d",
   "metadata": {},
   "source": [
    "<details>\n",
    "    <summary>Click here for Solution</summary>\n",
    "\n",
    "```python\n",
    "from tensorflow.keras.models import Sequential\n",
    "from tensorflow.keras.layers import Dense, Flatten\n",
    "from tensorflow.keras.optimizers import Adam\n",
    "import keras_tuner as kt\n",
    "\n",
    "# Step 1: Define a model-building function\n",
    "def build_model(hp):\n",
    "    model = Sequential([\n",
    "        Flatten(input_shape=(28, 28)),\n",
    "        Dense(units=hp.Int('units', min_value=32, max_value=512, step=32), activation='relu'),\n",
    "        Dense(10, activation='softmax')\n",
    "    ])\n",
    "\n",
    "    model.compile(\n",
    "        optimizer=Adam(learning_rate=hp.Float('learning_rate', min_value=1e-4, max_value=1e-2, sampling='LOG')),\n",
    "        loss='sparse_categorical_crossentropy',\n",
    "        metrics=['accuracy']\n",
    "    )\n",
    "    \n",
    "    return model\n",
    "```\n",
    "\n",
    "</details>\n"
   ]
  },
  {
   "cell_type": "markdown",
   "id": "6275473d-9012-4d64-a4d7-64a301904516",
   "metadata": {},
   "source": [
    "### Exercise 3: Configuring the hyperparameter search \n",
    "\n",
    "#### Objective: \n",
    "Set up Keras Tuner to search for the best hyperparameter configuration. \n",
    "\n",
    "#### Instructions: \n",
    "1. Create a `RandomSearch` tuner using the model-building function. \n",
    "2. Specify the optimization objective, number of trials, and directory for storing results.\n"
   ]
  },
  {
   "cell_type": "code",
   "execution_count": 12,
   "id": "e381f159-cf43-47a0-bd5e-42cd79232af5",
   "metadata": {},
   "outputs": [
    {
     "name": "stdout",
     "output_type": "stream",
     "text": [
      "Reloading Tuner from my_dir/intro_to_kt/tuner0.json\n",
      "Search space summary\n",
      "Default search space size: 2\n",
      "units (Int)\n",
      "{'default': None, 'conditions': [], 'min_value': 32, 'max_value': 512, 'step': 32, 'sampling': 'linear'}\n",
      "learning_rate (Float)\n",
      "{'default': 0.0001, 'conditions': [], 'min_value': 0.0001, 'max_value': 0.01, 'step': None, 'sampling': 'log'}\n"
     ]
    }
   ],
   "source": [
    "# Write your code here\n",
    "import keras_tuner as kt\n",
    "\n",
    "# Step 1: Create a RandomSearch Tuner\n",
    "tuner = kt.RandomSearch(\n",
    "    build_model,  # Ensure 'build_model' function is defined from previous code\n",
    "    objective='val_accuracy',\n",
    "    max_trials=10,\n",
    "    executions_per_trial=2,\n",
    "    directory='my_dir',\n",
    "    project_name='intro_to_kt'\n",
    ")\n",
    "\n",
    "# Display a summary of the search space\n",
    "tuner.search_space_summary()"
   ]
  },
  {
   "cell_type": "markdown",
   "id": "76e241d0-ee32-4e97-837d-35f54a82d5cd",
   "metadata": {},
   "source": [
    "<details>\n",
    "    <summary>Click here for Solution</summary>\n",
    "\n",
    "```python\n",
    "import keras_tuner as kt\n",
    "\n",
    "# Step 1: Create a RandomSearch Tuner\n",
    "tuner = kt.RandomSearch(\n",
    "    build_model,  # Ensure 'build_model' function is defined from previous code\n",
    "    objective='val_accuracy',\n",
    "    max_trials=10,\n",
    "    executions_per_trial=2,\n",
    "    directory='my_dir',\n",
    "    project_name='intro_to_kt'\n",
    ")\n",
    "\n",
    "# Display a summary of the search space\n",
    "tuner.search_space_summary()\n",
    "```\n",
    "\n",
    "</details>\n"
   ]
  },
  {
   "cell_type": "markdown",
   "id": "9a3e0817-3ab3-4840-b0cd-83ba25170e66",
   "metadata": {},
   "source": [
    "### Exercise 4: Running the hyperparameter search\n",
    "\n",
    "#### Objective: \n",
    "Run the hyperparameter search and dispaly the summary of the results.\n",
    "\n",
    "#### Instructions: \n",
    "1. Run the hyperparameter search using the `search` method of the tuner. \n",
    "2. Pass in the training data, validation data, and the number of epochs. \n",
    "3. Display a summary of the results. \n"
   ]
  },
  {
   "cell_type": "code",
   "execution_count": 13,
   "id": "5bd2184b-56e0-4f10-8eab-18e0d151f83e",
   "metadata": {},
   "outputs": [
    {
     "name": "stdout",
     "output_type": "stream",
     "text": [
      "Results summary\n",
      "Results in my_dir/intro_to_kt\n",
      "Showing 10 best trials\n",
      "Objective(name=\"val_accuracy\", direction=\"max\")\n",
      "\n",
      "Trial 05 summary\n",
      "Hyperparameters:\n",
      "units: 256\n",
      "learning_rate: 0.001592797574789083\n",
      "Score: 0.9794999957084656\n",
      "\n",
      "Trial 08 summary\n",
      "Hyperparameters:\n",
      "units: 288\n",
      "learning_rate: 0.0010693697544363863\n",
      "Score: 0.9792500138282776\n",
      "\n",
      "Trial 04 summary\n",
      "Hyperparameters:\n",
      "units: 320\n",
      "learning_rate: 0.0015463362595452633\n",
      "Score: 0.9781999886035919\n",
      "\n",
      "Trial 09 summary\n",
      "Hyperparameters:\n",
      "units: 224\n",
      "learning_rate: 0.0019976931131625974\n",
      "Score: 0.9778999984264374\n",
      "\n",
      "Trial 01 summary\n",
      "Hyperparameters:\n",
      "units: 128\n",
      "learning_rate: 0.001426440952221173\n",
      "Score: 0.9772999882698059\n",
      "\n",
      "Trial 06 summary\n",
      "Hyperparameters:\n",
      "units: 288\n",
      "learning_rate: 0.002939368265865483\n",
      "Score: 0.9766499996185303\n",
      "\n",
      "Trial 00 summary\n",
      "Hyperparameters:\n",
      "units: 224\n",
      "learning_rate: 0.0002470617950869425\n",
      "Score: 0.97325000166893\n",
      "\n",
      "Trial 02 summary\n",
      "Hyperparameters:\n",
      "units: 160\n",
      "learning_rate: 0.00036339055883970005\n",
      "Score: 0.9723999798297882\n",
      "\n",
      "Trial 07 summary\n",
      "Hyperparameters:\n",
      "units: 96\n",
      "learning_rate: 0.004759045596576738\n",
      "Score: 0.9706999957561493\n",
      "\n",
      "Trial 03 summary\n",
      "Hyperparameters:\n",
      "units: 96\n",
      "learning_rate: 0.0001161083982594455\n",
      "Score: 0.9481000006198883\n"
     ]
    }
   ],
   "source": [
    "# Write your code here\n",
    "# Step 1: Run the hyperparameter search \n",
    "\n",
    "tuner.search(x_train, y_train, epochs=5, validation_data=(x_val, y_val)) \n",
    "\n",
    " # Display a summary of the results \n",
    "\n",
    "tuner.results_summary()"
   ]
  },
  {
   "cell_type": "markdown",
   "id": "c90edacc-d082-4598-93e6-af16f5fc4fa2",
   "metadata": {},
   "source": [
    "<details>\n",
    "    <summary>Click here for Solution</summary>\n",
    "\n",
    "```python\n",
    "# Step 1: Run the hyperparameter search \n",
    "\n",
    "tuner.search(x_train, y_train, epochs=5, validation_data=(x_val, y_val)) \n",
    "\n",
    " # Display a summary of the results \n",
    "\n",
    "tuner.results_summary()\n",
    "```\n",
    "\n",
    "</details>\n"
   ]
  },
  {
   "cell_type": "markdown",
   "id": "e4d307e7-3765-4920-a1e1-2cf9b1f38965",
   "metadata": {},
   "source": [
    "### Exercise 5: Analyzing and using the best hyperparameters \n",
    "\n",
    "#### Objective: \n",
    "Retrieve the best hyperparameters from the search and build a model with these optimized values. \n",
    "\n",
    "#### Instructions: \n",
    "1. Retrieve the best hyperparameters using the `get_best_hyperparameters` method. \n",
    "2. Build a model using the best hyperparameters. \n",
    "3. Train the model on the full training data set and evaluate its performance on the validation set.\n"
   ]
  },
  {
   "cell_type": "code",
   "execution_count": 14,
   "id": "5b2f74ec-6bab-4ece-b88b-185ba46a4e9b",
   "metadata": {},
   "outputs": [
    {
     "name": "stdout",
     "output_type": "stream",
     "text": [
      " \n",
      "\n",
      "The optimal number of units in the first dense layer is 256. \n",
      "\n",
      "The optimal learning rate for the optimizer is 0.001592797574789083. \n",
      "\n",
      "\n",
      "Epoch 1/10\n",
      "\u001b[1m1500/1500\u001b[0m \u001b[32m━━━━━━━━━━━━━━━━━━━━\u001b[0m\u001b[37m\u001b[0m \u001b[1m5s\u001b[0m 3ms/step - accuracy: 0.8902 - loss: 0.3730 - val_accuracy: 0.9667 - val_loss: 0.1106\n",
      "Epoch 2/10\n",
      "\u001b[1m1500/1500\u001b[0m \u001b[32m━━━━━━━━━━━━━━━━━━━━\u001b[0m\u001b[37m\u001b[0m \u001b[1m3s\u001b[0m 2ms/step - accuracy: 0.9708 - loss: 0.0943 - val_accuracy: 0.9712 - val_loss: 0.0910\n",
      "Epoch 3/10\n",
      "\u001b[1m1500/1500\u001b[0m \u001b[32m━━━━━━━━━━━━━━━━━━━━\u001b[0m\u001b[37m\u001b[0m \u001b[1m3s\u001b[0m 2ms/step - accuracy: 0.9812 - loss: 0.0609 - val_accuracy: 0.9743 - val_loss: 0.0876\n",
      "Epoch 4/10\n",
      "\u001b[1m1500/1500\u001b[0m \u001b[32m━━━━━━━━━━━━━━━━━━━━\u001b[0m\u001b[37m\u001b[0m \u001b[1m3s\u001b[0m 2ms/step - accuracy: 0.9871 - loss: 0.0415 - val_accuracy: 0.9725 - val_loss: 0.0966\n",
      "Epoch 5/10\n",
      "\u001b[1m1500/1500\u001b[0m \u001b[32m━━━━━━━━━━━━━━━━━━━━\u001b[0m\u001b[37m\u001b[0m \u001b[1m3s\u001b[0m 2ms/step - accuracy: 0.9907 - loss: 0.0311 - val_accuracy: 0.9772 - val_loss: 0.0822\n",
      "Epoch 6/10\n",
      "\u001b[1m1500/1500\u001b[0m \u001b[32m━━━━━━━━━━━━━━━━━━━━\u001b[0m\u001b[37m\u001b[0m \u001b[1m3s\u001b[0m 2ms/step - accuracy: 0.9932 - loss: 0.0216 - val_accuracy: 0.9761 - val_loss: 0.0890\n",
      "Epoch 7/10\n",
      "\u001b[1m1500/1500\u001b[0m \u001b[32m━━━━━━━━━━━━━━━━━━━━\u001b[0m\u001b[37m\u001b[0m \u001b[1m3s\u001b[0m 2ms/step - accuracy: 0.9945 - loss: 0.0176 - val_accuracy: 0.9771 - val_loss: 0.0996\n",
      "Epoch 8/10\n",
      "\u001b[1m1500/1500\u001b[0m \u001b[32m━━━━━━━━━━━━━━━━━━━━\u001b[0m\u001b[37m\u001b[0m \u001b[1m3s\u001b[0m 2ms/step - accuracy: 0.9935 - loss: 0.0175 - val_accuracy: 0.9753 - val_loss: 0.0973\n",
      "Epoch 9/10\n",
      "\u001b[1m1500/1500\u001b[0m \u001b[32m━━━━━━━━━━━━━━━━━━━━\u001b[0m\u001b[37m\u001b[0m \u001b[1m3s\u001b[0m 2ms/step - accuracy: 0.9950 - loss: 0.0148 - val_accuracy: 0.9761 - val_loss: 0.1143\n",
      "Epoch 10/10\n",
      "\u001b[1m1500/1500\u001b[0m \u001b[32m━━━━━━━━━━━━━━━━━━━━\u001b[0m\u001b[37m\u001b[0m \u001b[1m3s\u001b[0m 2ms/step - accuracy: 0.9953 - loss: 0.0127 - val_accuracy: 0.9729 - val_loss: 0.1260\n",
      "\u001b[1m313/313\u001b[0m \u001b[32m━━━━━━━━━━━━━━━━━━━━\u001b[0m\u001b[37m\u001b[0m \u001b[1m2s\u001b[0m 3ms/step - accuracy: 0.9724 - loss: 0.1314\n",
      "Validation accuracy: 0.9761000275611877\n"
     ]
    }
   ],
   "source": [
    "# Write your code here\n",
    "# Step 1: Retrieve the best hyperparameters \n",
    "\n",
    "best_hps = tuner.get_best_hyperparameters(num_trials=1)[0] \n",
    "\n",
    "print(f\"\"\" \n",
    "\n",
    "The optimal number of units in the first dense layer is {best_hps.get('units')}. \n",
    "\n",
    "The optimal learning rate for the optimizer is {best_hps.get('learning_rate')}. \n",
    "\n",
    "\"\"\") \n",
    "\n",
    " # Step 2: Build and train the model with best hyperparameters \n",
    "\n",
    "model = tuner.hypermodel.build(best_hps) \n",
    "\n",
    "model.fit(x_train, y_train, epochs=10, validation_split=0.2) \n",
    "\n",
    " # Evaluate the model on the validation set \n",
    "\n",
    "val_loss, val_acc = model.evaluate(x_val, y_val) \n",
    "\n",
    "print(f'Validation accuracy: {val_acc}')"
   ]
  },
  {
   "cell_type": "markdown",
   "id": "a8180c3e-56be-4fb2-83db-8f8b13617055",
   "metadata": {},
   "source": [
    "<details>\n",
    "    <summary>Click here for Solution</summary>\n",
    "\n",
    "```python\n",
    "# Step 1: Retrieve the best hyperparameters \n",
    "\n",
    "best_hps = tuner.get_best_hyperparameters(num_trials=1)[0] \n",
    "\n",
    "print(f\"\"\" \n",
    "\n",
    "The optimal number of units in the first dense layer is {best_hps.get('units')}. \n",
    "\n",
    "The optimal learning rate for the optimizer is {best_hps.get('learning_rate')}. \n",
    "\n",
    "\"\"\") \n",
    "\n",
    " # Step 2: Build and train the model with best hyperparameters \n",
    "\n",
    "model = tuner.hypermodel.build(best_hps) \n",
    "\n",
    "model.fit(x_train, y_train, epochs=10, validation_split=0.2) \n",
    "\n",
    " # Evaluate the model on the validation set \n",
    "\n",
    "val_loss, val_acc = model.evaluate(x_val, y_val) \n",
    "\n",
    "print(f'Validation accuracy: {val_acc}') \n",
    "```\n",
    "\n",
    "</details>\n"
   ]
  },
  {
   "cell_type": "markdown",
   "id": "a8ef029a-d153-4f78-be1c-29c20833ce8f",
   "metadata": {},
   "source": [
    "### Conclusion \n",
    "\n",
    "Congratulations on completing this lab! You have learned to set up Keras Tuner and prepare the environment for hyperparameter tuning. In addition, you defined a model-building function that uses hyperparameters to configure the model architecture. You configured Keras Tuner to search for the best hyperparameter configuration and learned to run the hyperparameter search and analyze the results. Finally, you retrieved the best hyperparameters and built a model with these optimized values. \n"
   ]
  },
  {
   "cell_type": "markdown",
   "id": "2ea0b45d-7294-4c34-9c93-0bd5b89eb859",
   "metadata": {},
   "source": [
    "## Authors\n"
   ]
  },
  {
   "cell_type": "markdown",
   "id": "bd34b5b2-1275-4108-87b4-caeb1f71daeb",
   "metadata": {},
   "source": [
    "Skillup\n"
   ]
  },
  {
   "cell_type": "markdown",
   "id": "2636358b-39c1-4787-aa71-06a8a5106d48",
   "metadata": {},
   "source": [
    "Copyright ©IBM Corporation. All rights reserved.\n"
   ]
  }
 ],
 "metadata": {
  "kernelspec": {
   "display_name": "intellisis",
   "language": "python",
   "name": "python3"
  },
  "language_info": {
   "codemirror_mode": {
    "name": "ipython",
    "version": 3
   },
   "file_extension": ".py",
   "mimetype": "text/x-python",
   "name": "python",
   "nbconvert_exporter": "python",
   "pygments_lexer": "ipython3",
   "version": "3.9.18"
  },
  "prev_pub_hash": "4480f294d0e5af91350ef1c70e7b3bd8f76b50e8822bcb90342d59ff1810e228"
 },
 "nbformat": 4,
 "nbformat_minor": 4
}
