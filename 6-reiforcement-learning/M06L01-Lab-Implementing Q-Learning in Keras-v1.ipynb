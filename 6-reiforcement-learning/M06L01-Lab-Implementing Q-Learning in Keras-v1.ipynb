{
 "cells": [
  {
   "cell_type": "markdown",
   "id": "740a1079-012b-44aa-ae90-99b8cd916531",
   "metadata": {},
   "source": [
    "<p style=\"text-align:center\">\n",
    "    <a href=\"https://skills.network\" target=\"_blank\">\n",
    "    <img src=\"https://cf-courses-data.s3.us.cloud-object-storage.appdomain.cloud/assets/logos/SN_web_lightmode.png\" width=\"200\" alt=\"Skills Network Logo\"  />\n",
    "    </a>\n",
    "</p>\n"
   ]
  },
  {
   "cell_type": "markdown",
   "id": "b3718c28-7564-4598-8128-287f86e7a3bb",
   "metadata": {},
   "source": [
    "# **Lab: Implementing Q-Learning in Keras**\n"
   ]
  },
  {
   "cell_type": "markdown",
   "id": "1d0a51bb-aaa1-4baf-aadc-f9b92201616c",
   "metadata": {},
   "source": [
    "Estimated time needed: **30** minutes\n"
   ]
  },
  {
   "cell_type": "markdown",
   "id": "f077be57-daea-4f2b-8400-cac0cee4ec8c",
   "metadata": {},
   "source": [
    "## Lab Overview \n",
    "In this lab, you will implement a Q-Learning algorithm using Keras to solve a reinforcement learning problem.\n",
    "\n",
    "## Learning objectives:\n",
    "By the end of this lab, you will:  \n",
    "- Implement a Q-Learning algorithm using Keras\n",
    "- Define and train a neural network to approximate the Q-values\n",
    "- Evaluate the performance of the trained Q-Learning agent\n",
    "\n",
    "## Prerequisites \n",
    "- Basic knowledge of Python programming\n",
    "- Familiarity with Keras and neural networks\n",
    "- Understanding of reinforcement learning concepts\n"
   ]
  },
  {
   "cell_type": "markdown",
   "id": "4e7ae585-d763-432e-9885-02e60f3c5828",
   "metadata": {},
   "source": [
    "### Step-by-Step Guide \n",
    "\n",
    "#### Step 1: Setting Up the Environment \n",
    "\n",
    "First, you will set up the environment using the OpenAI Gym library. You will use the 'CartPole-v1' environment, a common benchmark for reinforcement learning algorithms.\n"
   ]
  },
  {
   "cell_type": "code",
   "execution_count": null,
   "id": "62478a27-80de-4b61-adbc-4f74bc69c07e",
   "metadata": {},
   "outputs": [],
   "source": [
    "%pip install gym"
   ]
  },
  {
   "cell_type": "code",
   "execution_count": null,
   "id": "49d88c32-7235-4c96-8a19-c699980d80fb",
   "metadata": {},
   "outputs": [],
   "source": [
    "!pip install --upgrade numpy==1.26.4\n",
    "!pip uninstall tensorflow -y \n",
    "!pip install tensorflow==2.16.2 "
   ]
  },
  {
   "cell_type": "markdown",
   "id": "b13b1f86-0120-47f4-a600-d331bfcad203",
   "metadata": {},
   "source": [
    "### Set Environment Variables \n",
    "Sometimes, environment variables can help mitigate certain issues with TensorFlow. You can try disabling the oneDNN optimizations or CUDA.\n"
   ]
  },
  {
   "cell_type": "code",
   "execution_count": null,
   "id": "497c0323-2b1b-4f5c-8b0a-abe682499a11",
   "metadata": {},
   "outputs": [],
   "source": [
    "import os \n",
    "os.environ['TF_ENABLE_ONEDNN_OPTS'] = '0' \n",
    "os.environ['CUDA_VISIBLE_DEVICES'] = '-1' "
   ]
  },
  {
   "cell_type": "markdown",
   "id": "b5a53faa-3d1d-414a-96e9-d9246fa2d801",
   "metadata": {},
   "source": [
    "### Reduce Recursion Limit \n",
    "You can also try increasing the recursion limit, although this is generally more of a workaround than a solution.\n"
   ]
  },
  {
   "cell_type": "code",
   "execution_count": 1,
   "id": "19080fc8-e1c6-439d-8a81-7c8c79aad63a",
   "metadata": {},
   "outputs": [
    {
     "data": {
      "text/plain": [
       "[42]"
      ]
     },
     "execution_count": 1,
     "metadata": {},
     "output_type": "execute_result"
    }
   ],
   "source": [
    "import sys \n",
    "sys.setrecursionlimit(1500) \n",
    "\n",
    "import gym \n",
    "import numpy as np \n",
    "\n",
    "# Create the environment \n",
    "env = gym.make('CartPole-v1') \n",
    "\n",
    "# Set random seed for reproducibility \n",
    "np.random.seed(42) \n",
    "env.action_space.seed(42) \n",
    "env.observation_space.seed(42)"
   ]
  },
  {
   "cell_type": "markdown",
   "id": "402129ab-20b1-4512-8457-e8ddd534c888",
   "metadata": {},
   "source": [
    "#### Explanation:  \n",
    "- `gym` is a toolkit for developing and comparing reinforcement learning algorithms.\n",
    "- `CartPole-v1` is an environment where a pole is balanced on a cart, and the goal is to prevent the pole from falling over.\n",
    "- Setting random seeds ensures that you can reproduce the results.\n"
   ]
  },
  {
   "cell_type": "markdown",
   "id": "aa8baa1b-4455-4fb8-805b-d8ded80a5a7b",
   "metadata": {},
   "source": [
    "### Step 2: Define the Q-Learning Model \n",
    "\n",
    "You will define a neural network using Keras to approximate the Q-values. The network will take the state as input and output Q-values for each action.\n"
   ]
  },
  {
   "cell_type": "code",
   "execution_count": 2,
   "id": "3216974c-9ee6-4150-9d23-aab484be2228",
   "metadata": {},
   "outputs": [
    {
     "name": "stderr",
     "output_type": "stream",
     "text": [
      "2025-05-22 09:08:32.655794: E external/local_xla/xla/stream_executor/cuda/cuda_fft.cc:467] Unable to register cuFFT factory: Attempting to register factory for plugin cuFFT when one has already been registered\n",
      "WARNING: All log messages before absl::InitializeLog() is called are written to STDERR\n",
      "E0000 00:00:1747915712.797830   30148 cuda_dnn.cc:8579] Unable to register cuDNN factory: Attempting to register factory for plugin cuDNN when one has already been registered\n",
      "E0000 00:00:1747915712.838145   30148 cuda_blas.cc:1407] Unable to register cuBLAS factory: Attempting to register factory for plugin cuBLAS when one has already been registered\n",
      "W0000 00:00:1747915713.169559   30148 computation_placer.cc:177] computation placer already registered. Please check linkage and avoid linking the same target more than once.\n",
      "W0000 00:00:1747915713.169584   30148 computation_placer.cc:177] computation placer already registered. Please check linkage and avoid linking the same target more than once.\n",
      "W0000 00:00:1747915713.169586   30148 computation_placer.cc:177] computation placer already registered. Please check linkage and avoid linking the same target more than once.\n",
      "W0000 00:00:1747915713.169588   30148 computation_placer.cc:177] computation placer already registered. Please check linkage and avoid linking the same target more than once.\n",
      "2025-05-22 09:08:33.205271: I tensorflow/core/platform/cpu_feature_guard.cc:210] This TensorFlow binary is optimized to use available CPU instructions in performance-critical operations.\n",
      "To enable the following instructions: AVX2 FMA, in other operations, rebuild TensorFlow with the appropriate compiler flags.\n",
      "I0000 00:00:1747915718.441598   30148 gpu_device.cc:2019] Created device /job:localhost/replica:0/task:0/device:GPU:0 with 8665 MB memory:  -> device: 0, name: NVIDIA GeForce RTX 3060, pci bus id: 0000:01:00.0, compute capability: 8.6\n"
     ]
    }
   ],
   "source": [
    "# Suppress warnings for a cleaner notebook or console experience\n",
    "import warnings\n",
    "warnings.filterwarnings('ignore')\n",
    "\n",
    "# Override the default warning function\n",
    "def warn(*args, **kwargs):\n",
    "    pass\n",
    "warnings.warn = warn\n",
    "\n",
    "# Import necessary libraries for the Q-Learning model\n",
    "from tensorflow.keras.models import Sequential\n",
    "from tensorflow.keras.layers import Dense, Input  # Import Input layer\n",
    "from tensorflow.keras.optimizers import Adam\n",
    "import gym  # Ensure the environment library is available\n",
    "\n",
    "# Define the model building function\n",
    "def build_model(state_size, action_size): \n",
    "    model = Sequential() \n",
    "    model.add(Input(shape=(state_size,)))  # Use Input layer to specify the input shape \n",
    "    model.add(Dense(24, activation='relu')) \n",
    "    model.add(Dense(24, activation='relu')) \n",
    "    model.add(Dense(action_size, activation='linear')) \n",
    "    model.compile(loss='mse', optimizer=Adam(learning_rate=0.001)) \n",
    "    return model \n",
    "\n",
    "# Create the environment and set up the model\n",
    "env = gym.make('CartPole-v1')\n",
    "state_size = env.observation_space.shape[0] \n",
    "action_size = env.action_space.n \n",
    "model = build_model(state_size, action_size)\n"
   ]
  },
  {
   "cell_type": "markdown",
   "id": "f8a6d70f-0d38-4f7a-bfeb-9689553b943b",
   "metadata": {},
   "source": [
    "#### Explanation: \n",
    "- `Sequential` model: a linear stack of layers in Keras. \n",
    "- `Dense` layers: fully connected layers. \n",
    "- `input_dim`: the size of the input layer, corresponding to the state size. \n",
    "- `activation='relu'`: Rectified Linear Unit activation function. \n",
    "- `activation='linear'`: linear activation function for the output layer, as we are predicting continuous Q-values. \n",
    "- `Adam` optimizer: an optimization algorithm that adjusts the learning rate based on gradients. \n"
   ]
  },
  {
   "cell_type": "markdown",
   "id": "1eddf517-7ec8-4493-a362-a29bbfa1f48a",
   "metadata": {},
   "source": [
    "#### Step 3: Implement the Q-Learning Algorithm \n",
    "\n",
    "Now, you will implement the Q-Learning algorithm, which involves interacting with the environment, updating the Q-values, and training the neural network. \n",
    "\n",
    "**Define the replay Function**\n"
   ]
  },
  {
   "cell_type": "code",
   "execution_count": 3,
   "id": "65799f7d-4168-406f-a551-5733986f960f",
   "metadata": {},
   "outputs": [
    {
     "ename": "AttributeError",
     "evalue": "module 'numpy' has no attribute 'bool8'",
     "output_type": "error",
     "traceback": [
      "\u001b[0;31m---------------------------------------------------------------------------\u001b[0m",
      "\u001b[0;31mAttributeError\u001b[0m                            Traceback (most recent call last)",
      "Cell \u001b[0;32mIn[3], line 68\u001b[0m\n\u001b[1;32m     66\u001b[0m \u001b[38;5;28;01mfor\u001b[39;00m time \u001b[38;5;129;01min\u001b[39;00m \u001b[38;5;28mrange\u001b[39m(\u001b[38;5;241m200\u001b[39m):  \u001b[38;5;66;03m# Limit to 200 time steps per episode\u001b[39;00m\n\u001b[1;32m     67\u001b[0m     action \u001b[38;5;241m=\u001b[39m act(state)\n\u001b[0;32m---> 68\u001b[0m     next_state, reward, terminated, truncated, _ \u001b[38;5;241m=\u001b[39m \u001b[43menv\u001b[49m\u001b[38;5;241;43m.\u001b[39;49m\u001b[43mstep\u001b[49m\u001b[43m(\u001b[49m\u001b[43maction\u001b[49m\u001b[43m)\u001b[49m\n\u001b[1;32m     69\u001b[0m     done \u001b[38;5;241m=\u001b[39m terminated \u001b[38;5;129;01mor\u001b[39;00m truncated\n\u001b[1;32m     70\u001b[0m     reward \u001b[38;5;241m=\u001b[39m reward \u001b[38;5;28;01mif\u001b[39;00m \u001b[38;5;129;01mnot\u001b[39;00m done \u001b[38;5;28;01melse\u001b[39;00m \u001b[38;5;241m-\u001b[39m\u001b[38;5;241m10\u001b[39m\n",
      "File \u001b[0;32m~/anaconda3/envs/intellisis/lib/python3.9/site-packages/gym/wrappers/time_limit.py:50\u001b[0m, in \u001b[0;36mTimeLimit.step\u001b[0;34m(self, action)\u001b[0m\n\u001b[1;32m     39\u001b[0m \u001b[38;5;28;01mdef\u001b[39;00m\u001b[38;5;250m \u001b[39m\u001b[38;5;21mstep\u001b[39m(\u001b[38;5;28mself\u001b[39m, action):\n\u001b[1;32m     40\u001b[0m \u001b[38;5;250m    \u001b[39m\u001b[38;5;124;03m\"\"\"Steps through the environment and if the number of steps elapsed exceeds ``max_episode_steps`` then truncate.\u001b[39;00m\n\u001b[1;32m     41\u001b[0m \n\u001b[1;32m     42\u001b[0m \u001b[38;5;124;03m    Args:\u001b[39;00m\n\u001b[0;32m   (...)\u001b[0m\n\u001b[1;32m     48\u001b[0m \n\u001b[1;32m     49\u001b[0m \u001b[38;5;124;03m    \"\"\"\u001b[39;00m\n\u001b[0;32m---> 50\u001b[0m     observation, reward, terminated, truncated, info \u001b[38;5;241m=\u001b[39m \u001b[38;5;28;43mself\u001b[39;49m\u001b[38;5;241;43m.\u001b[39;49m\u001b[43menv\u001b[49m\u001b[38;5;241;43m.\u001b[39;49m\u001b[43mstep\u001b[49m\u001b[43m(\u001b[49m\u001b[43maction\u001b[49m\u001b[43m)\u001b[49m\n\u001b[1;32m     51\u001b[0m     \u001b[38;5;28mself\u001b[39m\u001b[38;5;241m.\u001b[39m_elapsed_steps \u001b[38;5;241m+\u001b[39m\u001b[38;5;241m=\u001b[39m \u001b[38;5;241m1\u001b[39m\n\u001b[1;32m     53\u001b[0m     \u001b[38;5;28;01mif\u001b[39;00m \u001b[38;5;28mself\u001b[39m\u001b[38;5;241m.\u001b[39m_elapsed_steps \u001b[38;5;241m>\u001b[39m\u001b[38;5;241m=\u001b[39m \u001b[38;5;28mself\u001b[39m\u001b[38;5;241m.\u001b[39m_max_episode_steps:\n",
      "File \u001b[0;32m~/anaconda3/envs/intellisis/lib/python3.9/site-packages/gym/wrappers/order_enforcing.py:37\u001b[0m, in \u001b[0;36mOrderEnforcing.step\u001b[0;34m(self, action)\u001b[0m\n\u001b[1;32m     35\u001b[0m \u001b[38;5;28;01mif\u001b[39;00m \u001b[38;5;129;01mnot\u001b[39;00m \u001b[38;5;28mself\u001b[39m\u001b[38;5;241m.\u001b[39m_has_reset:\n\u001b[1;32m     36\u001b[0m     \u001b[38;5;28;01mraise\u001b[39;00m ResetNeeded(\u001b[38;5;124m\"\u001b[39m\u001b[38;5;124mCannot call env.step() before calling env.reset()\u001b[39m\u001b[38;5;124m\"\u001b[39m)\n\u001b[0;32m---> 37\u001b[0m \u001b[38;5;28;01mreturn\u001b[39;00m \u001b[38;5;28;43mself\u001b[39;49m\u001b[38;5;241;43m.\u001b[39;49m\u001b[43menv\u001b[49m\u001b[38;5;241;43m.\u001b[39;49m\u001b[43mstep\u001b[49m\u001b[43m(\u001b[49m\u001b[43maction\u001b[49m\u001b[43m)\u001b[49m\n",
      "File \u001b[0;32m~/anaconda3/envs/intellisis/lib/python3.9/site-packages/gym/wrappers/env_checker.py:37\u001b[0m, in \u001b[0;36mPassiveEnvChecker.step\u001b[0;34m(self, action)\u001b[0m\n\u001b[1;32m     35\u001b[0m \u001b[38;5;28;01mif\u001b[39;00m \u001b[38;5;28mself\u001b[39m\u001b[38;5;241m.\u001b[39mchecked_step \u001b[38;5;129;01mis\u001b[39;00m \u001b[38;5;28;01mFalse\u001b[39;00m:\n\u001b[1;32m     36\u001b[0m     \u001b[38;5;28mself\u001b[39m\u001b[38;5;241m.\u001b[39mchecked_step \u001b[38;5;241m=\u001b[39m \u001b[38;5;28;01mTrue\u001b[39;00m\n\u001b[0;32m---> 37\u001b[0m     \u001b[38;5;28;01mreturn\u001b[39;00m \u001b[43menv_step_passive_checker\u001b[49m\u001b[43m(\u001b[49m\u001b[38;5;28;43mself\u001b[39;49m\u001b[38;5;241;43m.\u001b[39;49m\u001b[43menv\u001b[49m\u001b[43m,\u001b[49m\u001b[43m \u001b[49m\u001b[43maction\u001b[49m\u001b[43m)\u001b[49m\n\u001b[1;32m     38\u001b[0m \u001b[38;5;28;01melse\u001b[39;00m:\n\u001b[1;32m     39\u001b[0m     \u001b[38;5;28;01mreturn\u001b[39;00m \u001b[38;5;28mself\u001b[39m\u001b[38;5;241m.\u001b[39menv\u001b[38;5;241m.\u001b[39mstep(action)\n",
      "File \u001b[0;32m~/anaconda3/envs/intellisis/lib/python3.9/site-packages/gym/utils/passive_env_checker.py:233\u001b[0m, in \u001b[0;36menv_step_passive_checker\u001b[0;34m(env, action)\u001b[0m\n\u001b[1;32m    230\u001b[0m obs, reward, terminated, truncated, info \u001b[38;5;241m=\u001b[39m result\n\u001b[1;32m    232\u001b[0m \u001b[38;5;66;03m# np.bool is actual python bool not np boolean type, therefore bool_ or bool8\u001b[39;00m\n\u001b[0;32m--> 233\u001b[0m \u001b[38;5;28;01mif\u001b[39;00m \u001b[38;5;129;01mnot\u001b[39;00m \u001b[38;5;28misinstance\u001b[39m(terminated, (\u001b[38;5;28mbool\u001b[39m, \u001b[43mnp\u001b[49m\u001b[38;5;241;43m.\u001b[39;49m\u001b[43mbool8\u001b[49m)):\n\u001b[1;32m    234\u001b[0m     logger\u001b[38;5;241m.\u001b[39mwarn(\n\u001b[1;32m    235\u001b[0m         \u001b[38;5;124mf\u001b[39m\u001b[38;5;124m\"\u001b[39m\u001b[38;5;124mExpects `terminated` signal to be a boolean, actual type: \u001b[39m\u001b[38;5;132;01m{\u001b[39;00m\u001b[38;5;28mtype\u001b[39m(terminated)\u001b[38;5;132;01m}\u001b[39;00m\u001b[38;5;124m\"\u001b[39m\n\u001b[1;32m    236\u001b[0m     )\n\u001b[1;32m    237\u001b[0m \u001b[38;5;28;01mif\u001b[39;00m \u001b[38;5;129;01mnot\u001b[39;00m \u001b[38;5;28misinstance\u001b[39m(truncated, (\u001b[38;5;28mbool\u001b[39m, np\u001b[38;5;241m.\u001b[39mbool8)):\n",
      "File \u001b[0;32m~/anaconda3/envs/intellisis/lib/python3.9/site-packages/numpy/__init__.py:410\u001b[0m, in \u001b[0;36m__getattr__\u001b[0;34m(attr)\u001b[0m\n\u001b[1;32m    407\u001b[0m     \u001b[38;5;28;01mimport\u001b[39;00m\u001b[38;5;250m \u001b[39m\u001b[38;5;21;01mnumpy\u001b[39;00m\u001b[38;5;21;01m.\u001b[39;00m\u001b[38;5;21;01mchar\u001b[39;00m\u001b[38;5;250m \u001b[39m\u001b[38;5;28;01mas\u001b[39;00m\u001b[38;5;250m \u001b[39m\u001b[38;5;21;01mchar\u001b[39;00m\n\u001b[1;32m    408\u001b[0m     \u001b[38;5;28;01mreturn\u001b[39;00m char\u001b[38;5;241m.\u001b[39mchararray\n\u001b[0;32m--> 410\u001b[0m \u001b[38;5;28;01mraise\u001b[39;00m \u001b[38;5;167;01mAttributeError\u001b[39;00m(\u001b[38;5;124m\"\u001b[39m\u001b[38;5;124mmodule \u001b[39m\u001b[38;5;132;01m{!r}\u001b[39;00m\u001b[38;5;124m has no attribute \u001b[39m\u001b[38;5;124m\"\u001b[39m\n\u001b[1;32m    411\u001b[0m                      \u001b[38;5;124m\"\u001b[39m\u001b[38;5;132;01m{!r}\u001b[39;00m\u001b[38;5;124m\"\u001b[39m\u001b[38;5;241m.\u001b[39mformat(\u001b[38;5;18m__name__\u001b[39m, attr))\n",
      "\u001b[0;31mAttributeError\u001b[0m: module 'numpy' has no attribute 'bool8'"
     ]
    }
   ],
   "source": [
    "import random\n",
    "import numpy as np\n",
    "from collections import deque\n",
    "import tensorflow as tf\n",
    "\n",
    "# Define epsilon and epsilon_decay\n",
    "epsilon = 1.0  # Starting with a high exploration rate\n",
    "epsilon_min = 0.01  # Minimum exploration rate\n",
    "epsilon_decay = 0.99  # Faster decay rate for epsilon after each episode\n",
    "\n",
    "# Replay memory\n",
    "memory = deque(maxlen=2000)\n",
    "\n",
    "def remember(state, action, reward, next_state, done):\n",
    "    \"\"\"Store experience in memory.\"\"\"\n",
    "    memory.append((state, action, reward, next_state, done))\n",
    "\n",
    "def replay(batch_size=64):  # Increased batch size\n",
    "    \"\"\"Train the model using a random sample of experiences from memory.\"\"\"\n",
    "    if len(memory) < batch_size:\n",
    "        return  # Skip replay if there's not enough experience\n",
    "\n",
    "    minibatch = random.sample(memory, batch_size)  # Sample a random batch from memory\n",
    "    \n",
    "    # Extract information for batch processing\n",
    "    states = np.vstack([x[0] for x in minibatch])\n",
    "    actions = np.array([x[1] for x in minibatch])\n",
    "    rewards = np.array([x[2] for x in minibatch])\n",
    "    next_states = np.vstack([x[3] for x in minibatch])\n",
    "    dones = np.array([x[4] for x in minibatch])\n",
    "    \n",
    "    # Predict Q-values for the next states in batch\n",
    "    q_next = model.predict(next_states)\n",
    "    # Predict Q-values for the current states in batch\n",
    "    q_target = model.predict(states)\n",
    "    \n",
    "    # Vectorized update of target values\n",
    "    for i in range(batch_size):\n",
    "        target = rewards[i]\n",
    "        if not dones[i]:\n",
    "            target += 0.95 * np.amax(q_next[i])  # Update Q value with the discounted future reward\n",
    "        q_target[i][actions[i]] = target  # Update only the taken action's Q value\n",
    "    \n",
    "    # Train the model with the updated targets in batch\n",
    "    model.fit(states, q_target, epochs=1, verbose=0)  # Train in batch mode\n",
    "\n",
    "    # Reduce exploration rate (epsilon) after each training step\n",
    "    global epsilon\n",
    "    if epsilon > epsilon_min:\n",
    "        epsilon *= epsilon_decay\n",
    "\n",
    "def act(state):\n",
    "    \"\"\"Choose an action based on the current state and exploration rate.\"\"\"\n",
    "    if np.random.rand() <= epsilon:\n",
    "        return random.randrange(action_size)  # Explore: choose a random action\n",
    "    act_values = model.predict(state)  # Exploit: predict action based on the state\n",
    "    return np.argmax(act_values[0])  # Return the action with the highest Q-value\n",
    "\n",
    "# Define the number of episodes you want to train the model for\n",
    "episodes = 10  # You can set this to any number you prefer\n",
    "train_frequency = 5  # Train the model every 5 steps\n",
    "\n",
    "for e in range(episodes):\n",
    "    state, _ = env.reset()  # Unpack the tuple returned by env.reset()\n",
    "    state = np.reshape(state, [1, state_size])\n",
    "    for time in range(200):  # Limit to 200 time steps per episode\n",
    "        action = act(state)\n",
    "        next_state, reward, terminated, truncated, _ = env.step(action)\n",
    "        done = terminated or truncated\n",
    "        reward = reward if not done else -10\n",
    "        next_state = np.reshape(next_state, [1, state_size])\n",
    "        remember(state, action, reward, next_state, done)  # Store experience\n",
    "        state = next_state\n",
    "        \n",
    "        if done:\n",
    "            print(f\"episode: {e+1}/{episodes}, score: {time}, e: {epsilon:.2}\")\n",
    "            break\n",
    "        \n",
    "        # Train the model every 'train_frequency' steps\n",
    "        if time % train_frequency == 0:\n",
    "            replay(batch_size=64)  # Call replay with larger batch size for efficiency\n",
    "\n",
    "env.close()\n"
   ]
  },
  {
   "cell_type": "markdown",
   "id": "f6ad0913-c421-4e99-8386-72ca3b1587a4",
   "metadata": {},
   "source": [
    "#### Step 4: Evaluate the Performance \n",
    "\n",
    "Finally, you will evaluate the performance of the trained Q-Learning agent.\n"
   ]
  },
  {
   "cell_type": "code",
   "execution_count": null,
   "id": "a79262c5-b77f-45c4-8579-ca2db386da0f",
   "metadata": {},
   "outputs": [],
   "source": [
    "for e in range(10):  \n",
    "\n",
    "    state, _ = env.reset()  # Unpack the state from the tuple \n",
    "    state = np.reshape(state, [1, state_size])  # Reshape the state correctly \n",
    "    for time in range(500):  \n",
    "        env.render()  \n",
    "        action = np.argmax(model.predict(state)[0])  \n",
    "        next_state, reward, terminated, truncated, _ = env.step(action)  # Unpack the five return values \n",
    "        done = terminated or truncated  # Check if the episode is done \n",
    "        next_state = np.reshape(next_state, [1, state_size])  \n",
    "        state = next_state  \n",
    "        if done:  \n",
    "            print(f\"episode: {e+1}/10, score: {time}\")  \n",
    "            break  \n",
    "\n",
    "env.close() "
   ]
  },
  {
   "cell_type": "markdown",
   "id": "7f91d28c-8de5-4e38-81a6-c97c89fef59d",
   "metadata": {},
   "source": [
    "#### Explanation: \n",
    "- This loop runs 10 episodes to test the trained agent. \n",
    "- `env.render()`: visualizes the environment. \n",
    "- The agent chooses actions based on the trained model and interacts with the environment. \n",
    "- The score for each episode is printed.\n"
   ]
  },
  {
   "cell_type": "markdown",
   "id": "2d250d8e-aba5-41ac-b595-87dff2c3bea6",
   "metadata": {},
   "source": [
    "# Practice exercises \n",
    "\n",
    "## Exercise 1: Experiment with Different Network Architectures \n",
    "\n",
    "### Objective: \n",
    "Understand how changing the architecture of the neural network affects the performance of the Q-Learning agent. \n",
    "\n",
    "### Instructions: \n",
    "1. Modify the `build_model()` function to include a different number of neurons and layers. For example, increase the number of layers to 3 and the number of neurons in each layer to 64. \n",
    "2. Train the model with the modified architecture and observe the performance in terms of average score achieved over 100 episodes. \n",
    "3. Compare the performance with the original architecture.\n"
   ]
  },
  {
   "cell_type": "code",
   "execution_count": null,
   "id": "066076e0-cd7a-4a86-a1d0-1794238fc5ec",
   "metadata": {},
   "outputs": [],
   "source": [
    "# Write your code here\n"
   ]
  },
  {
   "cell_type": "markdown",
   "id": "48437c03-37cc-4e43-b45f-62d1bd8402e8",
   "metadata": {},
   "source": [
    "<details>\n",
    "    <summary>Click here for Solution</summary>\n",
    "\n",
    "```python\n",
    "# Install gym if necessary\n",
    "!pip install gym\n",
    "\n",
    "import gym\n",
    "import numpy as np\n",
    "from keras.models import Sequential\n",
    "from keras.layers import Dense, Input\n",
    "from keras.optimizers import Adam\n",
    "from collections import deque\n",
    "import random\n",
    "\n",
    "# Initialize the environment\n",
    "env = gym.make('CartPole-v1')\n",
    "\n",
    "# Global settings\n",
    "episodes = 10  # Number of episodes\n",
    "batch_size = 32  # Size of the mini-batch for training\n",
    "memory = deque(maxlen=2000)  # Memory buffer to store experiences\n",
    "\n",
    "# Define state size and action size based on the environment\n",
    "state_size = env.observation_space.shape[0]  # State space size from the environment\n",
    "action_size = env.action_space.n  # Number of possible actions from the environment\n",
    "\n",
    "# Define the model\n",
    "def build_model(state_size, action_size):\n",
    "    model = Sequential()\n",
    "    model.add(Input(shape=(state_size,)))  # Explicit Input layer\n",
    "    model.add(Dense(32, activation='relu'))  # Smaller hidden layers\n",
    "    model.add(Dense(32, activation='relu'))\n",
    "    model.add(Dense(action_size, activation='linear'))\n",
    "    model.compile(loss='mse', optimizer=Adam(learning_rate=0.001))\n",
    "    return model\n",
    "\n",
    "# Re-initialize the model with the new architecture\n",
    "model = build_model(state_size, action_size)\n",
    "\n",
    "# Placeholder for your action function (e.g., epsilon-greedy)\n",
    "def act(state):\n",
    "    return env.action_space.sample()  # For now, a random action is taken\n",
    "\n",
    "# Function to remember experiences in memory\n",
    "def remember(state, action, reward, next_state, done):\n",
    "    memory.append((state, action, reward, next_state, done))\n",
    "\n",
    "# Optimized function to replay experiences from memory and train the model\n",
    "def replay(batch_size):\n",
    "    minibatch = random.sample(memory, batch_size)\n",
    "    states = np.vstack([sample[0] for sample in minibatch])\n",
    "    next_states = np.vstack([sample[3] for sample in minibatch])\n",
    "    targets = model.predict(states)\n",
    "    target_next = model.predict(next_states)\n",
    "    \n",
    "    for i, (state, action, reward, next_state, done) in enumerate(minibatch):\n",
    "        target = reward if done else reward + 0.95 * np.amax(target_next[i])\n",
    "        targets[i][action] = target\n",
    "        \n",
    "    model.fit(states, targets, epochs=1, verbose=0)\n",
    "\n",
    "# Train the model with the modified architecture\n",
    "for e in range(episodes):\n",
    "    state, _ = env.reset()  # Unpack the state from the tuple\n",
    "    state = np.reshape(state, [1, state_size])\n",
    "    for time in range(200):  # Reduced number of steps per episode\n",
    "        action = act(state)\n",
    "        next_state, reward, terminated, truncated, _ = env.step(action)\n",
    "        done = terminated or truncated\n",
    "        reward = reward if not done else -10\n",
    "        next_state = np.reshape(next_state, [1, state_size])\n",
    "        remember(state, action, reward, next_state, done)\n",
    "        state = next_state\n",
    "        \n",
    "        if done:\n",
    "            print(f\"episode: {e+1}/{episodes}, score: {time}\")\n",
    "            break\n",
    "        \n",
    "        if len(memory) > batch_size and time % 10 == 0:  # Train every 10 steps\n",
    "            replay(batch_size)  # Pass the batch size to replay()\n",
    "\n",
    "env.close()\n",
    "```\n",
    "\n",
    "</details>\n"
   ]
  },
  {
   "cell_type": "markdown",
   "id": "8328c23d-60e8-40fa-b4e8-13c7cafa624d",
   "metadata": {},
   "source": [
    "## Exercise 2: Implement an Adaptive Exploration Rate \n",
    "\n",
    "### Objective: \n",
    "Learn how to adapt the exploration rate (`epsilon`) based on the agent's performance to balance exploration and exploitation. \n",
    "\n",
    "### Instructions: \n",
    "1. Modify the `epsilon` decay strategy to decrease more rapidly when the agent's performance improves significantly. \n",
    "2. Implement a check to reduce `epsilon` faster if the agent achieves a score greater than a certain threshold (e.g., 200) in consecutive episodes. \n",
    "3. Observe the effect on the learning rate and the agent's performance. \n"
   ]
  },
  {
   "cell_type": "code",
   "execution_count": null,
   "id": "afe95cbf-5fc8-4780-9552-e12052b98289",
   "metadata": {},
   "outputs": [],
   "source": [
    "# Write your code here\n"
   ]
  },
  {
   "cell_type": "markdown",
   "id": "3b13daec-115f-4805-a42e-545e935fefb2",
   "metadata": {},
   "source": [
    "<details>\n",
    "    <summary>Click here for Solution</summary>\n",
    "\n",
    "```python\n",
    "# Function to adjust epsilon based on performance\n",
    "def adjust_epsilon(score, consecutive_success_threshold=200):\n",
    "    global epsilon \n",
    "\n",
    "    if score >= consecutive_success_threshold: \n",
    "        epsilon = max(epsilon_min, epsilon * 0.9)  # Reduce epsilon faster if performance is good\n",
    "    else: \n",
    "        epsilon = max(epsilon_min, epsilon * epsilon_decay)  # Regular epsilon decay\n",
    "\n",
    "episodes = 2  # Set number of episodes for training\n",
    "\n",
    "# Train the model with adaptive epsilon decay\n",
    "for e in range(episodes): \n",
    "    state = env.reset()  \n",
    "    state = state[0]  # Extract the first element, which is the actual state array\n",
    "    state = np.reshape(state, [1, len(state)])  # Reshape state to match the expected input shape\n",
    "\n",
    "    total_reward = 0 \n",
    "\n",
    "    for time in range(500):  # Limit the episode to 500 time steps\n",
    "        action = act(state)  # Choose action based on policy\n",
    "        next_state, reward, done, truncated, _ = env.step(action)  # Unpack 5 values\n",
    "\n",
    "        reward = reward if not done else -10  # Penalize for reaching a terminal state\n",
    "        total_reward += reward  # Accumulate rewards\n",
    "\n",
    "        next_state = np.reshape(next_state, [1, len(next_state)])  # Reshape next state (optional based on model needs)\n",
    "\n",
    "        remember(state, action, reward, next_state, done)  # Store experience in memory\n",
    "        state = next_state  # Update the current state\n",
    "\n",
    "        if done or truncated:  # Check if the episode is done or truncated\n",
    "            adjust_epsilon(total_reward)  # Adjust epsilon based on the total reward\n",
    "            print(f\"episode: {e}/{episodes}, score: {time}, e: {epsilon:.2}\")  # Print the episode details\n",
    "            break  # Break out of the loop if the episode is done or truncated\n",
    "\n",
    "        if len(memory) > batch_size:  # Check if enough experiences are stored in memory\n",
    "            replay(batch_size)  # Train the model with the stored experiences (pass batch_size here)\n",
    "```\n",
    "\n",
    "</details>\n"
   ]
  },
  {
   "cell_type": "markdown",
   "id": "aa344ad6-9b6d-492c-a9f8-e7f7e01e0657",
   "metadata": {},
   "source": [
    "## Exercise 3 : Implement a Custom Reward Function \n",
    "\n",
    "### Objective: \n",
    "Understand the impact of reward shaping on training the Q-Learning agent. \n",
    "\n",
    "### Instructions: \n",
    "1. Modify the reward function to provide more granular feedback to the agent. For example, give higher rewards for keeping the pole more vertical and closer to the center. \n",
    "2. Implement a reward function that rewards the agent proportionally to the angle of the pole and the distance of the cart from the center. \n",
    "3. Train the agent with the new reward function and compare the learning speed and stability to the original setting.\n"
   ]
  },
  {
   "cell_type": "code",
   "execution_count": null,
   "id": "87702a6c-6494-4286-9d88-cc2e66294644",
   "metadata": {},
   "outputs": [],
   "source": [
    "# Write your code here\n"
   ]
  },
  {
   "cell_type": "markdown",
   "id": "a9beae2d-b11d-4774-892a-f1c91be1ef27",
   "metadata": {},
   "source": [
    "<details>\n",
    "    <summary>Click here for Solution</summary>\n",
    "\n",
    "```python\n",
    "# Define a custom reward function based on the cart position and pole angle\n",
    "def custom_reward(state):\n",
    "    # Extract state variables: x (cart position), x_dot (cart velocity), theta (pole angle), theta_dot (pole angular velocity)\n",
    "    x, x_dot, theta, theta_dot = state\n",
    "    \n",
    "    # Custom reward function: Encourage the agent to keep the cart near the center and the pole upright\n",
    "    reward = (1 - abs(x) / 2.4) + (1 - abs(theta) / 0.20948)\n",
    "    \n",
    "    return reward\n",
    "\n",
    "episodes = 2  # Number of episodes to run\n",
    "\n",
    "# Train the model with the custom reward function\n",
    "for e in range(episodes): \n",
    "    state = env.reset()  # Reset the environment\n",
    "\n",
    "    # Print the state structure for debugging\n",
    "    print(f\"State: {state}, State Type: {type(state)}\")\n",
    "\n",
    "    # Extract the state if it's a tuple and reshape if necessary\n",
    "    if isinstance(state, tuple):\n",
    "        state = state[0]  # Extract the first element if it's a tuple\n",
    "\n",
    "    state = np.reshape(state, [1, state_size])  # Reshape state to match the expected input shape\n",
    "\n",
    "    for time in range(500):  # Limit the episode to 500 time steps\n",
    "        action = act(state)  # Choose an action based on the current state\n",
    "        \n",
    "        # Unpack 5 values returned by env.step(action)\n",
    "        next_state, reward, done, truncated, _ = env.step(action)\n",
    "\n",
    "        # Compute the custom reward based on the next state\n",
    "        reward = custom_reward(next_state) if not done else -10\n",
    "\n",
    "        # Reshape next_state if necessary\n",
    "        if isinstance(next_state, tuple):\n",
    "            next_state = next_state[0]  # Extract the first element if it's a tuple\n",
    "\n",
    "        next_state = np.reshape(next_state, [1, state_size])  # Reshape next state to match input shape\n",
    "\n",
    "        # Store the experience in memory\n",
    "        remember(state, action, reward, next_state, done)\n",
    "        state = next_state  # Update the current state\n",
    "\n",
    "        if done or truncated:  # If the episode is done, break out of the loop\n",
    "            print(f\"episode: {e}/{episodes}, score: {time}, e: {epsilon:.2}\")\n",
    "            break\n",
    "\n",
    "        if len(memory) > batch_size:  # If there are enough samples in memory, train the model\n",
    "            replay(batch_size)  # Train the model with a batch of experiences\n",
    "\n",
    "```\n",
    "\n",
    "</details>\n"
   ]
  },
  {
   "cell_type": "markdown",
   "id": "dc8bb10d-660d-4974-b338-308c2f929d76",
   "metadata": {},
   "source": [
    "#### Conclusion \n",
    "\n",
    "Congratulations on completing this lab!  In this lab, you explored various strategies to enhance the performance of the Q-Learning agent, such as experimenting with different network architectures, implementing adaptive exploration rates, and customizing the reward function. These variations help reinforce your understanding of the Q-Learning algorithm's flexibility and the impact of different hyperparameters and strategies on the learning process.  \n"
   ]
  },
  {
   "cell_type": "markdown",
   "id": "e5f9c898-718c-4391-8889-a252e1f327eb",
   "metadata": {},
   "source": [
    "## Authors\n"
   ]
  },
  {
   "cell_type": "markdown",
   "id": "1b79de45-a9fe-4091-9c76-06da4a1115a2",
   "metadata": {},
   "source": [
    "Skills Network\n"
   ]
  },
  {
   "cell_type": "markdown",
   "id": "68a7ee5c-a336-47ce-86ca-f6919fc5cf58",
   "metadata": {},
   "source": [
    "Copyright © IBM Corporation. All rights reserved.\n"
   ]
  }
 ],
 "metadata": {
  "kernelspec": {
   "display_name": "intellisis",
   "language": "python",
   "name": "python3"
  },
  "language_info": {
   "codemirror_mode": {
    "name": "ipython",
    "version": 3
   },
   "file_extension": ".py",
   "mimetype": "text/x-python",
   "name": "python",
   "nbconvert_exporter": "python",
   "pygments_lexer": "ipython3",
   "version": "3.9.18"
  },
  "prev_pub_hash": "c7aa20b200c76f649b9de38f08b4d27f83eff96f5933b3756055c6d8d0fb5867"
 },
 "nbformat": 4,
 "nbformat_minor": 4
}
